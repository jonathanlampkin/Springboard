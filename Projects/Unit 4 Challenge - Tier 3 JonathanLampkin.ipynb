{
 "cells": [
  {
   "cell_type": "markdown",
   "metadata": {
    "colab_type": "text",
    "id": "Tia3MP1SJpgj"
   },
   "source": [
    "# Springboard Data Science Career Track Unit 4 Challenge - Tier 3 Complete\n",
    "\n",
    "## Objectives\n",
    "Hey! Great job getting through those challenging DataCamp courses. You're learning a lot in a short span of time. \n",
    "\n",
    "In this notebook, you're going to apply the skills you've been learning, bridging the gap between the controlled environment of DataCamp and the *slightly* messier work that data scientists do with actual datasets!\n",
    "\n",
    "Here’s the mystery we’re going to solve: ***which boroughs of London have seen the greatest increase in housing prices, on average, over the last two decades?***\n",
    "\n",
    "\n",
    "A borough is just a fancy word for district. You may be familiar with the five boroughs of New York… well, there are 32 boroughs within Greater London [(here's some info for the curious)](https://en.wikipedia.org/wiki/London_boroughs). Some of them are more desirable areas to live in, and the data will reflect that with a greater rise in housing prices.\n",
    "\n",
    "***This is the Tier 3 notebook, which means it's not filled in at all: we'll just give you the skeleton of a project, the brief and the data. It's up to you to play around with it and see what you can find out! Good luck! If you struggle, feel free to look at easier tiers for help; but try to dip in and out of them, as the more independent work you do, the better it is for your learning!***\n",
    "\n",
    "This challenge will make use of only what you learned in the following DataCamp courses: \n",
    "- Prework courses (Introduction to Python for Data Science, Intermediate Python for Data Science)\n",
    "- Data Types for Data Science\n",
    "- Python Data Science Toolbox (Part One) \n",
    "- pandas Foundations\n",
    "- Manipulating DataFrames with pandas\n",
    "- Merging DataFrames with pandas\n",
    "\n",
    "Of the tools, techniques and concepts in the above DataCamp courses, this challenge should require the application of the following: \n",
    "- **pandas**\n",
    "    - **data ingestion and inspection** (pandas Foundations, Module One) \n",
    "    - **exploratory data analysis** (pandas Foundations, Module Two)\n",
    "    - **tidying and cleaning** (Manipulating DataFrames with pandas, Module Three) \n",
    "    - **transforming DataFrames** (Manipulating DataFrames with pandas, Module One)\n",
    "    - **subsetting DataFrames with lists** (Manipulating DataFrames with pandas, Module One) \n",
    "    - **filtering DataFrames** (Manipulating DataFrames with pandas, Module One) \n",
    "    - **grouping data** (Manipulating DataFrames with pandas, Module Four) \n",
    "    - **melting data** (Manipulating DataFrames with pandas, Module Three) \n",
    "    - **advanced indexing** (Manipulating DataFrames with pandas, Module Four) \n",
    "- **matplotlib** (Intermediate Python for Data Science, Module One)\n",
    "- **fundamental data types** (Data Types for Data Science, Module One) \n",
    "- **dictionaries** (Intermediate Python for Data Science, Module Two)\n",
    "- **handling dates and times** (Data Types for Data Science, Module Four)\n",
    "- **function definition** (Python Data Science Toolbox - Part One, Module One)\n",
    "- **default arguments, variable length, and scope** (Python Data Science Toolbox - Part One, Module Two) \n",
    "- **lambda functions and error handling** (Python Data Science Toolbox - Part One, Module Four) "
   ]
  },
  {
   "cell_type": "markdown",
   "metadata": {
    "colab_type": "text",
    "id": "Ipgd2nV8Jpgl"
   },
   "source": [
    "## The Data Science Pipeline\n",
    "\n",
    "This is Tier Three, so we'll get you started. But after that, it's all in your hands! When you feel done with your investigations, look back over what you've accomplished, and prepare a quick presentation of your findings for the next mentor meeting. \n",
    "\n",
    "Data Science is magical. In this case study, you'll get to apply some complex machine learning algorithms. But as  [David Spiegelhalter](https://www.youtube.com/watch?v=oUs1uvsz0Ok) reminds us, there is no substitute for simply **taking a really, really good look at the data.** Sometimes, this is all we need to answer our question.\n",
    "\n",
    "Data Science projects generally adhere to the four stages of Data Science Pipeline:\n",
    "1. Sourcing and loading \n",
    "2. Cleaning, transforming, and visualizing \n",
    "3. Modeling \n",
    "4. Evaluating and concluding \n"
   ]
  },
  {
   "cell_type": "markdown",
   "metadata": {
    "colab_type": "text",
    "id": "zswDqbefJpgm"
   },
   "source": [
    "### 1. Sourcing and Loading \n",
    "\n",
    "Any Data Science project kicks off by importing  ***pandas***. The documentation of this wonderful library can be found [here](https://pandas.pydata.org/). As you've seen, pandas is conveniently connected to the [Numpy](http://www.numpy.org/) and [Matplotlib](https://matplotlib.org/) libraries. \n",
    "\n",
    "***Hint:*** This part of the data science pipeline will test those skills you acquired in the pandas Foundations course, Module One. "
   ]
  },
  {
   "cell_type": "markdown",
   "metadata": {
    "colab_type": "text",
    "id": "aEau5nEvJpgm"
   },
   "source": [
    "#### 1.1. Importing Libraries"
   ]
  },
  {
   "cell_type": "code",
   "execution_count": 1,
   "metadata": {
    "colab": {},
    "colab_type": "code",
    "id": "7Bt_Q_oPJpgn"
   },
   "outputs": [],
   "source": [
    "# Let's import the pandas, numpy libraries as pd, and np respectively. \n",
    "import pandas as pd\n",
    "import numpy as np\n",
    "\n",
    "# Load the pyplot collection of functions from matplotlib, as plt \n",
    "import matplotlib.pyplot as plt\n",
    "\n",
    "pd.options.display.float_format = '{:0,.2f}'.format"
   ]
  },
  {
   "cell_type": "markdown",
   "metadata": {
    "colab_type": "text",
    "id": "koUrawxsJpgq"
   },
   "source": [
    "#### 1.2.  Loading the data\n",
    "Your data comes from the [London Datastore](https://data.london.gov.uk/): a free, open-source data-sharing portal for London-oriented datasets. "
   ]
  },
  {
   "cell_type": "code",
   "execution_count": 2,
   "metadata": {
    "colab": {},
    "colab_type": "code",
    "id": "AiLiD4v3Jpgr"
   },
   "outputs": [],
   "source": [
    "# First, make a variable called url_LondonHousePrices, and assign it the following link, enclosed in quotation-marks as a string:\n",
    "# https://data.london.gov.uk/download/uk-house-price-index/70ac0766-8902-4eb5-aab5-01951aaed773/UK%20House%20price%20index.xls\n",
    "\n",
    "url_LondonHousePrices = \"https://data.london.gov.uk/download/uk-house-price-index/70ac0766-8902-4eb5-aab5-01951aaed773/UK%20House%20price%20index.xls\"\n",
    "\n",
    "# The dataset we're interested in contains the Average prices of the houses, and is actually on a particular sheet of the Excel file. \n",
    "# As a result, we need to specify the sheet name in the read_excel() method.\n",
    "# Put this data into a variable called properties.  \n",
    "properties = pd.read_excel(url_LondonHousePrices, sheet_name='Average price', index_col= None)"
   ]
  },
  {
   "cell_type": "markdown",
   "metadata": {
    "colab_type": "text",
    "id": "POukEJXgJpgu"
   },
   "source": [
    "### 2. Cleaning, transforming, and visualizing\n",
    "This second stage is arguably the most important part of any Data Science project. The first thing to do is take a proper look at the data. Cleaning forms the majority of this stage, and can be done both before or after Transformation.\n",
    "\n",
    "The end goal of data cleaning is to have tidy data. When data is tidy: \n",
    "\n",
    "1. Each variable has a column.\n",
    "2. Each observation forms a row.\n",
    "\n",
    "Keep the end goal in mind as you move through this process, every step will take you closer. \n",
    "\n",
    "\n",
    "\n",
    "***Hint:*** This part of the data science pipeline should test those skills you acquired in: \n",
    "- Intermediate Python for data science, all modules.\n",
    "- pandas Foundations, all modules. \n",
    "- Manipulating DataFrames with pandas, all modules.\n",
    "- Data Types for Data Science, Module Four.\n",
    "- Python Data Science Toolbox - Part One, all modules"
   ]
  },
  {
   "cell_type": "markdown",
   "metadata": {
    "colab_type": "text",
    "id": "Te0Q548tnzZa"
   },
   "source": [
    "**2.1. Exploring your data** \n",
    "\n",
    "Think about your pandas functions for checking out a dataframe. "
   ]
  },
  {
   "cell_type": "code",
   "execution_count": 3,
   "metadata": {
    "colab": {},
    "colab_type": "code",
    "id": "Rxirxw_qoAJa"
   },
   "outputs": [
    {
     "name": "stdout",
     "output_type": "stream",
     "text": [
      "Shape:  (316, 49) \n",
      "\n",
      "Null Columns :\n",
      " Unnamed: 34             316\n",
      "Unnamed: 47             316\n",
      "Unnamed: 37             316\n",
      "Unnamed: 0                1\n",
      "Kensington & Chelsea      0\n",
      "dtype: int64 \n",
      "\n",
      "<class 'pandas.core.frame.DataFrame'>\n",
      "RangeIndex: 316 entries, 0 to 315\n",
      "Data columns (total 49 columns):\n",
      " #   Column                Non-Null Count  Dtype         \n",
      "---  ------                --------------  -----         \n",
      " 0   Unnamed: 0            315 non-null    datetime64[ns]\n",
      " 1   City of London        316 non-null    object        \n",
      " 2   Barking & Dagenham    316 non-null    object        \n",
      " 3   Barnet                316 non-null    object        \n",
      " 4   Bexley                316 non-null    object        \n",
      " 5   Brent                 316 non-null    object        \n",
      " 6   Bromley               316 non-null    object        \n",
      " 7   Camden                316 non-null    object        \n",
      " 8   Croydon               316 non-null    object        \n",
      " 9   Ealing                316 non-null    object        \n",
      " 10  Enfield               316 non-null    object        \n",
      " 11  Greenwich             316 non-null    object        \n",
      " 12  Hackney               316 non-null    object        \n",
      " 13  Hammersmith & Fulham  316 non-null    object        \n",
      " 14  Haringey              316 non-null    object        \n",
      " 15  Harrow                316 non-null    object        \n",
      " 16  Havering              316 non-null    object        \n",
      " 17  Hillingdon            316 non-null    object        \n",
      " 18  Hounslow              316 non-null    object        \n",
      " 19  Islington             316 non-null    object        \n",
      " 20  Kensington & Chelsea  316 non-null    object        \n",
      " 21  Kingston upon Thames  316 non-null    object        \n",
      " 22  Lambeth               316 non-null    object        \n",
      " 23  Lewisham              316 non-null    object        \n",
      " 24  Merton                316 non-null    object        \n",
      " 25  Newham                316 non-null    object        \n",
      " 26  Redbridge             316 non-null    object        \n",
      " 27  Richmond upon Thames  316 non-null    object        \n",
      " 28  Southwark             316 non-null    object        \n",
      " 29  Sutton                316 non-null    object        \n",
      " 30  Tower Hamlets         316 non-null    object        \n",
      " 31  Waltham Forest        316 non-null    object        \n",
      " 32  Wandsworth            316 non-null    object        \n",
      " 33  Westminster           316 non-null    object        \n",
      " 34  Unnamed: 34           0 non-null      float64       \n",
      " 35  Inner London          316 non-null    object        \n",
      " 36  Outer London          316 non-null    object        \n",
      " 37  Unnamed: 37           0 non-null      float64       \n",
      " 38  NORTH EAST            316 non-null    object        \n",
      " 39  NORTH WEST            316 non-null    object        \n",
      " 40  YORKS & THE HUMBER    316 non-null    object        \n",
      " 41  EAST MIDLANDS         316 non-null    object        \n",
      " 42  WEST MIDLANDS         316 non-null    object        \n",
      " 43  EAST OF ENGLAND       316 non-null    object        \n",
      " 44  LONDON                316 non-null    object        \n",
      " 45  SOUTH EAST            316 non-null    object        \n",
      " 46  SOUTH WEST            316 non-null    object        \n",
      " 47  Unnamed: 47           0 non-null      float64       \n",
      " 48  England               316 non-null    object        \n",
      "dtypes: datetime64[ns](1), float64(3), object(45)\n",
      "memory usage: 121.1+ KB\n"
     ]
    }
   ],
   "source": [
    "print('Shape: ',properties.shape, '\\n')\n",
    "print('Null Columns :\\n',properties.isnull().sum().sort_values(ascending=False)[:5],'\\n')\n",
    "properties.info()"
   ]
  },
  {
   "cell_type": "code",
   "execution_count": 4,
   "metadata": {},
   "outputs": [
    {
     "data": {
      "text/html": [
       "<div>\n",
       "<style scoped>\n",
       "    .dataframe tbody tr th:only-of-type {\n",
       "        vertical-align: middle;\n",
       "    }\n",
       "\n",
       "    .dataframe tbody tr th {\n",
       "        vertical-align: top;\n",
       "    }\n",
       "\n",
       "    .dataframe thead th {\n",
       "        text-align: right;\n",
       "    }\n",
       "</style>\n",
       "<table border=\"1\" class=\"dataframe\">\n",
       "  <thead>\n",
       "    <tr style=\"text-align: right;\">\n",
       "      <th></th>\n",
       "      <th>Unnamed: 0</th>\n",
       "      <th>City of London</th>\n",
       "      <th>Barking &amp; Dagenham</th>\n",
       "      <th>Barnet</th>\n",
       "      <th>Bexley</th>\n",
       "      <th>Brent</th>\n",
       "      <th>Bromley</th>\n",
       "      <th>Camden</th>\n",
       "      <th>Croydon</th>\n",
       "      <th>Ealing</th>\n",
       "      <th>...</th>\n",
       "      <th>NORTH WEST</th>\n",
       "      <th>YORKS &amp; THE HUMBER</th>\n",
       "      <th>EAST MIDLANDS</th>\n",
       "      <th>WEST MIDLANDS</th>\n",
       "      <th>EAST OF ENGLAND</th>\n",
       "      <th>LONDON</th>\n",
       "      <th>SOUTH EAST</th>\n",
       "      <th>SOUTH WEST</th>\n",
       "      <th>Unnamed: 47</th>\n",
       "      <th>England</th>\n",
       "    </tr>\n",
       "  </thead>\n",
       "  <tbody>\n",
       "    <tr>\n",
       "      <th>0</th>\n",
       "      <td>NaT</td>\n",
       "      <td>E09000001</td>\n",
       "      <td>E09000002</td>\n",
       "      <td>E09000003</td>\n",
       "      <td>E09000004</td>\n",
       "      <td>E09000005</td>\n",
       "      <td>E09000006</td>\n",
       "      <td>E09000007</td>\n",
       "      <td>E09000008</td>\n",
       "      <td>E09000009</td>\n",
       "      <td>...</td>\n",
       "      <td>E12000002</td>\n",
       "      <td>E12000003</td>\n",
       "      <td>E12000004</td>\n",
       "      <td>E12000005</td>\n",
       "      <td>E12000006</td>\n",
       "      <td>E12000007</td>\n",
       "      <td>E12000008</td>\n",
       "      <td>E12000009</td>\n",
       "      <td>nan</td>\n",
       "      <td>E92000001</td>\n",
       "    </tr>\n",
       "    <tr>\n",
       "      <th>1</th>\n",
       "      <td>1995-01-01</td>\n",
       "      <td>91,448.98</td>\n",
       "      <td>50,460.23</td>\n",
       "      <td>93,284.52</td>\n",
       "      <td>64,958.09</td>\n",
       "      <td>71,306.57</td>\n",
       "      <td>81,671.48</td>\n",
       "      <td>120,932.89</td>\n",
       "      <td>69,158.16</td>\n",
       "      <td>79,885.89</td>\n",
       "      <td>...</td>\n",
       "      <td>43,958.48</td>\n",
       "      <td>44,803.43</td>\n",
       "      <td>45,544.52</td>\n",
       "      <td>48,527.52</td>\n",
       "      <td>56,701.60</td>\n",
       "      <td>74,435.76</td>\n",
       "      <td>64,018.88</td>\n",
       "      <td>54,705.16</td>\n",
       "      <td>nan</td>\n",
       "      <td>53,202.77</td>\n",
       "    </tr>\n",
       "    <tr>\n",
       "      <th>2</th>\n",
       "      <td>1995-02-01</td>\n",
       "      <td>82,202.77</td>\n",
       "      <td>51,085.78</td>\n",
       "      <td>93,190.17</td>\n",
       "      <td>64,787.92</td>\n",
       "      <td>72,022.26</td>\n",
       "      <td>81,657.56</td>\n",
       "      <td>119,508.86</td>\n",
       "      <td>68,951.10</td>\n",
       "      <td>80,897.07</td>\n",
       "      <td>...</td>\n",
       "      <td>43,925.42</td>\n",
       "      <td>44,528.81</td>\n",
       "      <td>46,051.57</td>\n",
       "      <td>49,341.29</td>\n",
       "      <td>56,593.59</td>\n",
       "      <td>72,777.94</td>\n",
       "      <td>63,715.02</td>\n",
       "      <td>54,356.15</td>\n",
       "      <td>nan</td>\n",
       "      <td>53,096.15</td>\n",
       "    </tr>\n",
       "    <tr>\n",
       "      <th>3</th>\n",
       "      <td>1995-03-01</td>\n",
       "      <td>79,120.70</td>\n",
       "      <td>51,268.97</td>\n",
       "      <td>92,247.52</td>\n",
       "      <td>64,367.49</td>\n",
       "      <td>72,015.76</td>\n",
       "      <td>81,449.31</td>\n",
       "      <td>120,282.21</td>\n",
       "      <td>68,712.44</td>\n",
       "      <td>81,379.86</td>\n",
       "      <td>...</td>\n",
       "      <td>44,434.87</td>\n",
       "      <td>45,200.47</td>\n",
       "      <td>45,383.82</td>\n",
       "      <td>49,442.18</td>\n",
       "      <td>56,171.18</td>\n",
       "      <td>73,896.84</td>\n",
       "      <td>64,113.61</td>\n",
       "      <td>53,583.08</td>\n",
       "      <td>nan</td>\n",
       "      <td>53,201.28</td>\n",
       "    </tr>\n",
       "    <tr>\n",
       "      <th>4</th>\n",
       "      <td>1995-04-01</td>\n",
       "      <td>77,101.21</td>\n",
       "      <td>53,133.51</td>\n",
       "      <td>90,762.87</td>\n",
       "      <td>64,277.67</td>\n",
       "      <td>72,965.63</td>\n",
       "      <td>81,124.41</td>\n",
       "      <td>120,097.90</td>\n",
       "      <td>68,610.05</td>\n",
       "      <td>82,188.90</td>\n",
       "      <td>...</td>\n",
       "      <td>44,267.78</td>\n",
       "      <td>45,614.34</td>\n",
       "      <td>46,124.23</td>\n",
       "      <td>49,455.93</td>\n",
       "      <td>56,567.90</td>\n",
       "      <td>74,455.29</td>\n",
       "      <td>64,623.22</td>\n",
       "      <td>54,786.02</td>\n",
       "      <td>nan</td>\n",
       "      <td>53,590.85</td>\n",
       "    </tr>\n",
       "  </tbody>\n",
       "</table>\n",
       "<p>5 rows × 49 columns</p>\n",
       "</div>"
      ],
      "text/plain": [
       "  Unnamed: 0 City of London Barking & Dagenham     Barnet     Bexley  \\\n",
       "0        NaT      E09000001          E09000002  E09000003  E09000004   \n",
       "1 1995-01-01      91,448.98          50,460.23  93,284.52  64,958.09   \n",
       "2 1995-02-01      82,202.77          51,085.78  93,190.17  64,787.92   \n",
       "3 1995-03-01      79,120.70          51,268.97  92,247.52  64,367.49   \n",
       "4 1995-04-01      77,101.21          53,133.51  90,762.87  64,277.67   \n",
       "\n",
       "       Brent    Bromley     Camden    Croydon     Ealing  ... NORTH WEST  \\\n",
       "0  E09000005  E09000006  E09000007  E09000008  E09000009  ...  E12000002   \n",
       "1  71,306.57  81,671.48 120,932.89  69,158.16  79,885.89  ...  43,958.48   \n",
       "2  72,022.26  81,657.56 119,508.86  68,951.10  80,897.07  ...  43,925.42   \n",
       "3  72,015.76  81,449.31 120,282.21  68,712.44  81,379.86  ...  44,434.87   \n",
       "4  72,965.63  81,124.41 120,097.90  68,610.05  82,188.90  ...  44,267.78   \n",
       "\n",
       "  YORKS & THE HUMBER EAST MIDLANDS WEST MIDLANDS EAST OF ENGLAND     LONDON  \\\n",
       "0          E12000003     E12000004     E12000005       E12000006  E12000007   \n",
       "1          44,803.43     45,544.52     48,527.52       56,701.60  74,435.76   \n",
       "2          44,528.81     46,051.57     49,341.29       56,593.59  72,777.94   \n",
       "3          45,200.47     45,383.82     49,442.18       56,171.18  73,896.84   \n",
       "4          45,614.34     46,124.23     49,455.93       56,567.90  74,455.29   \n",
       "\n",
       "  SOUTH EAST SOUTH WEST Unnamed: 47    England  \n",
       "0  E12000008  E12000009         nan  E92000001  \n",
       "1  64,018.88  54,705.16         nan  53,202.77  \n",
       "2  63,715.02  54,356.15         nan  53,096.15  \n",
       "3  64,113.61  53,583.08         nan  53,201.28  \n",
       "4  64,623.22  54,786.02         nan  53,590.85  \n",
       "\n",
       "[5 rows x 49 columns]"
      ]
     },
     "execution_count": 4,
     "metadata": {},
     "output_type": "execute_result"
    }
   ],
   "source": [
    "properties.head()"
   ]
  },
  {
   "cell_type": "markdown",
   "metadata": {
    "colab_type": "text",
    "id": "tE9Sqt9-oAta"
   },
   "source": [
    "**2.2. Cleaning the data**\n",
    "\n",
    "You might find you need to transpose your dataframe, check out what its row indexes are, and reset the index. You  also might find you need to assign the values of the first row to your column headings  . (Hint: recall the .columns feature of DataFrames, as well as the iloc[] method).\n",
    "\n",
    "Don't be afraid to use StackOverflow for help  with this."
   ]
  },
  {
   "cell_type": "code",
   "execution_count": 5,
   "metadata": {
    "colab": {},
    "colab_type": "code",
    "id": "cdAu1A3YoH_r"
   },
   "outputs": [
    {
     "data": {
      "text/html": [
       "<div>\n",
       "<style scoped>\n",
       "    .dataframe tbody tr th:only-of-type {\n",
       "        vertical-align: middle;\n",
       "    }\n",
       "\n",
       "    .dataframe tbody tr th {\n",
       "        vertical-align: top;\n",
       "    }\n",
       "\n",
       "    .dataframe thead th {\n",
       "        text-align: right;\n",
       "    }\n",
       "</style>\n",
       "<table border=\"1\" class=\"dataframe\">\n",
       "  <thead>\n",
       "    <tr style=\"text-align: right;\">\n",
       "      <th></th>\n",
       "      <th>Unnamed: 0</th>\n",
       "      <th>NaN</th>\n",
       "      <th>1995-01-01 00:00:00</th>\n",
       "      <th>1995-02-01 00:00:00</th>\n",
       "      <th>1995-03-01 00:00:00</th>\n",
       "      <th>1995-04-01 00:00:00</th>\n",
       "      <th>1995-05-01 00:00:00</th>\n",
       "      <th>1995-06-01 00:00:00</th>\n",
       "      <th>1995-07-01 00:00:00</th>\n",
       "      <th>1995-08-01 00:00:00</th>\n",
       "      <th>...</th>\n",
       "      <th>2020-06-01 00:00:00</th>\n",
       "      <th>2020-07-01 00:00:00</th>\n",
       "      <th>2020-08-01 00:00:00</th>\n",
       "      <th>2020-09-01 00:00:00</th>\n",
       "      <th>2020-10-01 00:00:00</th>\n",
       "      <th>2020-11-01 00:00:00</th>\n",
       "      <th>2020-12-01 00:00:00</th>\n",
       "      <th>2021-01-01 00:00:00</th>\n",
       "      <th>2021-02-01 00:00:00</th>\n",
       "      <th>2021-03-01 00:00:00</th>\n",
       "    </tr>\n",
       "  </thead>\n",
       "  <tbody>\n",
       "    <tr>\n",
       "      <th>0</th>\n",
       "      <td>Unnamed: 0</td>\n",
       "      <td>NaT</td>\n",
       "      <td>1995-01-01 00:00:00</td>\n",
       "      <td>1995-02-01 00:00:00</td>\n",
       "      <td>1995-03-01 00:00:00</td>\n",
       "      <td>1995-04-01 00:00:00</td>\n",
       "      <td>1995-05-01 00:00:00</td>\n",
       "      <td>1995-06-01 00:00:00</td>\n",
       "      <td>1995-07-01 00:00:00</td>\n",
       "      <td>1995-08-01 00:00:00</td>\n",
       "      <td>...</td>\n",
       "      <td>2020-06-01 00:00:00</td>\n",
       "      <td>2020-07-01 00:00:00</td>\n",
       "      <td>2020-08-01 00:00:00</td>\n",
       "      <td>2020-09-01 00:00:00</td>\n",
       "      <td>2020-10-01 00:00:00</td>\n",
       "      <td>2020-11-01 00:00:00</td>\n",
       "      <td>2020-12-01 00:00:00</td>\n",
       "      <td>2021-01-01 00:00:00</td>\n",
       "      <td>2021-02-01 00:00:00</td>\n",
       "      <td>2021-03-01 00:00:00</td>\n",
       "    </tr>\n",
       "    <tr>\n",
       "      <th>1</th>\n",
       "      <td>City of London</td>\n",
       "      <td>E09000001</td>\n",
       "      <td>91,448.98</td>\n",
       "      <td>82,202.77</td>\n",
       "      <td>79,120.70</td>\n",
       "      <td>77,101.21</td>\n",
       "      <td>84,409.15</td>\n",
       "      <td>94,900.51</td>\n",
       "      <td>110,128.04</td>\n",
       "      <td>112,329.44</td>\n",
       "      <td>...</td>\n",
       "      <td>882,872.10</td>\n",
       "      <td>786,626.67</td>\n",
       "      <td>827,658.52</td>\n",
       "      <td>798,499.16</td>\n",
       "      <td>825,741.82</td>\n",
       "      <td>770,971.96</td>\n",
       "      <td>794,277.05</td>\n",
       "      <td>762,756.60</td>\n",
       "      <td>744,323.59</td>\n",
       "      <td>864,353.53</td>\n",
       "    </tr>\n",
       "    <tr>\n",
       "      <th>2</th>\n",
       "      <td>Barking &amp; Dagenham</td>\n",
       "      <td>E09000002</td>\n",
       "      <td>50,460.23</td>\n",
       "      <td>51,085.78</td>\n",
       "      <td>51,268.97</td>\n",
       "      <td>53,133.51</td>\n",
       "      <td>53,042.25</td>\n",
       "      <td>53,700.35</td>\n",
       "      <td>52,113.12</td>\n",
       "      <td>52,232.20</td>\n",
       "      <td>...</td>\n",
       "      <td>300,526.29</td>\n",
       "      <td>304,555.59</td>\n",
       "      <td>304,923.50</td>\n",
       "      <td>301,702.47</td>\n",
       "      <td>304,763.60</td>\n",
       "      <td>305,052.81</td>\n",
       "      <td>310,281.29</td>\n",
       "      <td>314,068.11</td>\n",
       "      <td>319,588.71</td>\n",
       "      <td>317,184.80</td>\n",
       "    </tr>\n",
       "    <tr>\n",
       "      <th>3</th>\n",
       "      <td>Barnet</td>\n",
       "      <td>E09000003</td>\n",
       "      <td>93,284.52</td>\n",
       "      <td>93,190.17</td>\n",
       "      <td>92,247.52</td>\n",
       "      <td>90,762.87</td>\n",
       "      <td>90,258.00</td>\n",
       "      <td>90,107.23</td>\n",
       "      <td>91,441.25</td>\n",
       "      <td>92,361.32</td>\n",
       "      <td>...</td>\n",
       "      <td>518,175.05</td>\n",
       "      <td>523,279.89</td>\n",
       "      <td>529,660.15</td>\n",
       "      <td>533,619.23</td>\n",
       "      <td>529,762.30</td>\n",
       "      <td>530,930.91</td>\n",
       "      <td>533,160.18</td>\n",
       "      <td>541,621.69</td>\n",
       "      <td>536,096.04</td>\n",
       "      <td>534,005.47</td>\n",
       "    </tr>\n",
       "    <tr>\n",
       "      <th>4</th>\n",
       "      <td>Bexley</td>\n",
       "      <td>E09000004</td>\n",
       "      <td>64,958.09</td>\n",
       "      <td>64,787.92</td>\n",
       "      <td>64,367.49</td>\n",
       "      <td>64,277.67</td>\n",
       "      <td>63,997.14</td>\n",
       "      <td>64,252.32</td>\n",
       "      <td>63,722.70</td>\n",
       "      <td>64,432.60</td>\n",
       "      <td>...</td>\n",
       "      <td>340,893.08</td>\n",
       "      <td>344,091.23</td>\n",
       "      <td>346,679.92</td>\n",
       "      <td>345,061.49</td>\n",
       "      <td>345,458.68</td>\n",
       "      <td>347,116.00</td>\n",
       "      <td>353,710.48</td>\n",
       "      <td>358,242.70</td>\n",
       "      <td>361,861.36</td>\n",
       "      <td>367,014.61</td>\n",
       "    </tr>\n",
       "  </tbody>\n",
       "</table>\n",
       "<p>5 rows × 317 columns</p>\n",
       "</div>"
      ],
      "text/plain": [
       "0          Unnamed: 0        NaN  1995-01-01 00:00:00  1995-02-01 00:00:00  \\\n",
       "0          Unnamed: 0        NaT  1995-01-01 00:00:00  1995-02-01 00:00:00   \n",
       "1      City of London  E09000001            91,448.98            82,202.77   \n",
       "2  Barking & Dagenham  E09000002            50,460.23            51,085.78   \n",
       "3              Barnet  E09000003            93,284.52            93,190.17   \n",
       "4              Bexley  E09000004            64,958.09            64,787.92   \n",
       "\n",
       "0  1995-03-01 00:00:00  1995-04-01 00:00:00  1995-05-01 00:00:00  \\\n",
       "0  1995-03-01 00:00:00  1995-04-01 00:00:00  1995-05-01 00:00:00   \n",
       "1            79,120.70            77,101.21            84,409.15   \n",
       "2            51,268.97            53,133.51            53,042.25   \n",
       "3            92,247.52            90,762.87            90,258.00   \n",
       "4            64,367.49            64,277.67            63,997.14   \n",
       "\n",
       "0  1995-06-01 00:00:00  1995-07-01 00:00:00  1995-08-01 00:00:00  ...  \\\n",
       "0  1995-06-01 00:00:00  1995-07-01 00:00:00  1995-08-01 00:00:00  ...   \n",
       "1            94,900.51           110,128.04           112,329.44  ...   \n",
       "2            53,700.35            52,113.12            52,232.20  ...   \n",
       "3            90,107.23            91,441.25            92,361.32  ...   \n",
       "4            64,252.32            63,722.70            64,432.60  ...   \n",
       "\n",
       "0  2020-06-01 00:00:00  2020-07-01 00:00:00  2020-08-01 00:00:00  \\\n",
       "0  2020-06-01 00:00:00  2020-07-01 00:00:00  2020-08-01 00:00:00   \n",
       "1           882,872.10           786,626.67           827,658.52   \n",
       "2           300,526.29           304,555.59           304,923.50   \n",
       "3           518,175.05           523,279.89           529,660.15   \n",
       "4           340,893.08           344,091.23           346,679.92   \n",
       "\n",
       "0  2020-09-01 00:00:00  2020-10-01 00:00:00  2020-11-01 00:00:00  \\\n",
       "0  2020-09-01 00:00:00  2020-10-01 00:00:00  2020-11-01 00:00:00   \n",
       "1           798,499.16           825,741.82           770,971.96   \n",
       "2           301,702.47           304,763.60           305,052.81   \n",
       "3           533,619.23           529,762.30           530,930.91   \n",
       "4           345,061.49           345,458.68           347,116.00   \n",
       "\n",
       "0  2020-12-01 00:00:00  2021-01-01 00:00:00  2021-02-01 00:00:00  \\\n",
       "0  2020-12-01 00:00:00  2021-01-01 00:00:00  2021-02-01 00:00:00   \n",
       "1           794,277.05           762,756.60           744,323.59   \n",
       "2           310,281.29           314,068.11           319,588.71   \n",
       "3           533,160.18           541,621.69           536,096.04   \n",
       "4           353,710.48           358,242.70           361,861.36   \n",
       "\n",
       "0  2021-03-01 00:00:00  \n",
       "0  2021-03-01 00:00:00  \n",
       "1           864,353.53  \n",
       "2           317,184.80  \n",
       "3           534,005.47  \n",
       "4           367,014.61  \n",
       "\n",
       "[5 rows x 317 columns]"
      ]
     },
     "execution_count": 5,
     "metadata": {},
     "output_type": "execute_result"
    }
   ],
   "source": [
    "properties_T = properties.T.reset_index()\n",
    "properties_T.columns = properties_T.iloc[0]\n",
    "\n",
    "properties_T.head()"
   ]
  },
  {
   "cell_type": "markdown",
   "metadata": {
    "colab_type": "text",
    "id": "o1uLbJAsoIjK"
   },
   "source": [
    "**2.3. Cleaning the data (part 2)**\n",
    "\n",
    "You might we have to **rename** a couple columns. How do you do this? The clue's pretty bold..."
   ]
  },
  {
   "cell_type": "code",
   "execution_count": 6,
   "metadata": {},
   "outputs": [
    {
     "data": {
      "text/html": [
       "<div>\n",
       "<style scoped>\n",
       "    .dataframe tbody tr th:only-of-type {\n",
       "        vertical-align: middle;\n",
       "    }\n",
       "\n",
       "    .dataframe tbody tr th {\n",
       "        vertical-align: top;\n",
       "    }\n",
       "\n",
       "    .dataframe thead th {\n",
       "        text-align: right;\n",
       "    }\n",
       "</style>\n",
       "<table border=\"1\" class=\"dataframe\">\n",
       "  <thead>\n",
       "    <tr style=\"text-align: right;\">\n",
       "      <th></th>\n",
       "      <th>London_Borough</th>\n",
       "      <th>ID</th>\n",
       "      <th>1995-01-01 00:00:00</th>\n",
       "      <th>1995-02-01 00:00:00</th>\n",
       "      <th>1995-03-01 00:00:00</th>\n",
       "      <th>1995-04-01 00:00:00</th>\n",
       "      <th>1995-05-01 00:00:00</th>\n",
       "      <th>1995-06-01 00:00:00</th>\n",
       "      <th>1995-07-01 00:00:00</th>\n",
       "      <th>1995-08-01 00:00:00</th>\n",
       "      <th>...</th>\n",
       "      <th>2020-06-01 00:00:00</th>\n",
       "      <th>2020-07-01 00:00:00</th>\n",
       "      <th>2020-08-01 00:00:00</th>\n",
       "      <th>2020-09-01 00:00:00</th>\n",
       "      <th>2020-10-01 00:00:00</th>\n",
       "      <th>2020-11-01 00:00:00</th>\n",
       "      <th>2020-12-01 00:00:00</th>\n",
       "      <th>2021-01-01 00:00:00</th>\n",
       "      <th>2021-02-01 00:00:00</th>\n",
       "      <th>2021-03-01 00:00:00</th>\n",
       "    </tr>\n",
       "  </thead>\n",
       "  <tbody>\n",
       "    <tr>\n",
       "      <th>1</th>\n",
       "      <td>City of London</td>\n",
       "      <td>E09000001</td>\n",
       "      <td>91,448.98</td>\n",
       "      <td>82,202.77</td>\n",
       "      <td>79,120.70</td>\n",
       "      <td>77,101.21</td>\n",
       "      <td>84,409.15</td>\n",
       "      <td>94,900.51</td>\n",
       "      <td>110,128.04</td>\n",
       "      <td>112,329.44</td>\n",
       "      <td>...</td>\n",
       "      <td>882,872.10</td>\n",
       "      <td>786,626.67</td>\n",
       "      <td>827,658.52</td>\n",
       "      <td>798,499.16</td>\n",
       "      <td>825,741.82</td>\n",
       "      <td>770,971.96</td>\n",
       "      <td>794,277.05</td>\n",
       "      <td>762,756.60</td>\n",
       "      <td>744,323.59</td>\n",
       "      <td>864,353.53</td>\n",
       "    </tr>\n",
       "    <tr>\n",
       "      <th>2</th>\n",
       "      <td>Barking &amp; Dagenham</td>\n",
       "      <td>E09000002</td>\n",
       "      <td>50,460.23</td>\n",
       "      <td>51,085.78</td>\n",
       "      <td>51,268.97</td>\n",
       "      <td>53,133.51</td>\n",
       "      <td>53,042.25</td>\n",
       "      <td>53,700.35</td>\n",
       "      <td>52,113.12</td>\n",
       "      <td>52,232.20</td>\n",
       "      <td>...</td>\n",
       "      <td>300,526.29</td>\n",
       "      <td>304,555.59</td>\n",
       "      <td>304,923.50</td>\n",
       "      <td>301,702.47</td>\n",
       "      <td>304,763.60</td>\n",
       "      <td>305,052.81</td>\n",
       "      <td>310,281.29</td>\n",
       "      <td>314,068.11</td>\n",
       "      <td>319,588.71</td>\n",
       "      <td>317,184.80</td>\n",
       "    </tr>\n",
       "    <tr>\n",
       "      <th>3</th>\n",
       "      <td>Barnet</td>\n",
       "      <td>E09000003</td>\n",
       "      <td>93,284.52</td>\n",
       "      <td>93,190.17</td>\n",
       "      <td>92,247.52</td>\n",
       "      <td>90,762.87</td>\n",
       "      <td>90,258.00</td>\n",
       "      <td>90,107.23</td>\n",
       "      <td>91,441.25</td>\n",
       "      <td>92,361.32</td>\n",
       "      <td>...</td>\n",
       "      <td>518,175.05</td>\n",
       "      <td>523,279.89</td>\n",
       "      <td>529,660.15</td>\n",
       "      <td>533,619.23</td>\n",
       "      <td>529,762.30</td>\n",
       "      <td>530,930.91</td>\n",
       "      <td>533,160.18</td>\n",
       "      <td>541,621.69</td>\n",
       "      <td>536,096.04</td>\n",
       "      <td>534,005.47</td>\n",
       "    </tr>\n",
       "    <tr>\n",
       "      <th>4</th>\n",
       "      <td>Bexley</td>\n",
       "      <td>E09000004</td>\n",
       "      <td>64,958.09</td>\n",
       "      <td>64,787.92</td>\n",
       "      <td>64,367.49</td>\n",
       "      <td>64,277.67</td>\n",
       "      <td>63,997.14</td>\n",
       "      <td>64,252.32</td>\n",
       "      <td>63,722.70</td>\n",
       "      <td>64,432.60</td>\n",
       "      <td>...</td>\n",
       "      <td>340,893.08</td>\n",
       "      <td>344,091.23</td>\n",
       "      <td>346,679.92</td>\n",
       "      <td>345,061.49</td>\n",
       "      <td>345,458.68</td>\n",
       "      <td>347,116.00</td>\n",
       "      <td>353,710.48</td>\n",
       "      <td>358,242.70</td>\n",
       "      <td>361,861.36</td>\n",
       "      <td>367,014.61</td>\n",
       "    </tr>\n",
       "    <tr>\n",
       "      <th>5</th>\n",
       "      <td>Brent</td>\n",
       "      <td>E09000005</td>\n",
       "      <td>71,306.57</td>\n",
       "      <td>72,022.26</td>\n",
       "      <td>72,015.76</td>\n",
       "      <td>72,965.63</td>\n",
       "      <td>73,704.05</td>\n",
       "      <td>74,310.48</td>\n",
       "      <td>74,127.04</td>\n",
       "      <td>73,547.04</td>\n",
       "      <td>...</td>\n",
       "      <td>484,159.91</td>\n",
       "      <td>482,303.09</td>\n",
       "      <td>497,729.03</td>\n",
       "      <td>519,561.83</td>\n",
       "      <td>521,251.35</td>\n",
       "      <td>512,271.05</td>\n",
       "      <td>495,230.52</td>\n",
       "      <td>508,184.29</td>\n",
       "      <td>513,426.45</td>\n",
       "      <td>510,532.79</td>\n",
       "    </tr>\n",
       "  </tbody>\n",
       "</table>\n",
       "<p>5 rows × 317 columns</p>\n",
       "</div>"
      ],
      "text/plain": [
       "0      London_Borough         ID 1995-01-01 00:00:00 1995-02-01 00:00:00  \\\n",
       "1      City of London  E09000001           91,448.98           82,202.77   \n",
       "2  Barking & Dagenham  E09000002           50,460.23           51,085.78   \n",
       "3              Barnet  E09000003           93,284.52           93,190.17   \n",
       "4              Bexley  E09000004           64,958.09           64,787.92   \n",
       "5               Brent  E09000005           71,306.57           72,022.26   \n",
       "\n",
       "0 1995-03-01 00:00:00 1995-04-01 00:00:00 1995-05-01 00:00:00  \\\n",
       "1           79,120.70           77,101.21           84,409.15   \n",
       "2           51,268.97           53,133.51           53,042.25   \n",
       "3           92,247.52           90,762.87           90,258.00   \n",
       "4           64,367.49           64,277.67           63,997.14   \n",
       "5           72,015.76           72,965.63           73,704.05   \n",
       "\n",
       "0 1995-06-01 00:00:00 1995-07-01 00:00:00 1995-08-01 00:00:00  ...  \\\n",
       "1           94,900.51          110,128.04          112,329.44  ...   \n",
       "2           53,700.35           52,113.12           52,232.20  ...   \n",
       "3           90,107.23           91,441.25           92,361.32  ...   \n",
       "4           64,252.32           63,722.70           64,432.60  ...   \n",
       "5           74,310.48           74,127.04           73,547.04  ...   \n",
       "\n",
       "0 2020-06-01 00:00:00 2020-07-01 00:00:00 2020-08-01 00:00:00  \\\n",
       "1          882,872.10          786,626.67          827,658.52   \n",
       "2          300,526.29          304,555.59          304,923.50   \n",
       "3          518,175.05          523,279.89          529,660.15   \n",
       "4          340,893.08          344,091.23          346,679.92   \n",
       "5          484,159.91          482,303.09          497,729.03   \n",
       "\n",
       "0 2020-09-01 00:00:00 2020-10-01 00:00:00 2020-11-01 00:00:00  \\\n",
       "1          798,499.16          825,741.82          770,971.96   \n",
       "2          301,702.47          304,763.60          305,052.81   \n",
       "3          533,619.23          529,762.30          530,930.91   \n",
       "4          345,061.49          345,458.68          347,116.00   \n",
       "5          519,561.83          521,251.35          512,271.05   \n",
       "\n",
       "0 2020-12-01 00:00:00 2021-01-01 00:00:00 2021-02-01 00:00:00  \\\n",
       "1          794,277.05          762,756.60          744,323.59   \n",
       "2          310,281.29          314,068.11          319,588.71   \n",
       "3          533,160.18          541,621.69          536,096.04   \n",
       "4          353,710.48          358,242.70          361,861.36   \n",
       "5          495,230.52          508,184.29          513,426.45   \n",
       "\n",
       "0 2021-03-01 00:00:00  \n",
       "1          864,353.53  \n",
       "2          317,184.80  \n",
       "3          534,005.47  \n",
       "4          367,014.61  \n",
       "5          510,532.79  \n",
       "\n",
       "[5 rows x 317 columns]"
      ]
     },
     "execution_count": 6,
     "metadata": {},
     "output_type": "execute_result"
    }
   ],
   "source": [
    "properties_T.drop(0,inplace=True)\n",
    "properties_T = properties_T.rename(columns = {'Unnamed: 0':'London_Borough', pd.NaT: 'ID'})\n",
    "\n",
    "properties_T.head()"
   ]
  },
  {
   "cell_type": "markdown",
   "metadata": {
    "colab_type": "text",
    "id": "jy8BzXHmoWEw"
   },
   "source": [
    "**2.4.Transforming the data**\n",
    "\n",
    "Remember what Wes McKinney said about tidy data? \n",
    "\n",
    "You might need to **melt** your DataFrame here. "
   ]
  },
  {
   "cell_type": "code",
   "execution_count": 7,
   "metadata": {},
   "outputs": [],
   "source": [
    "clean_properties = pd.melt(properties_T, id_vars= ['London_Borough', 'ID'])"
   ]
  },
  {
   "cell_type": "code",
   "execution_count": 8,
   "metadata": {
    "colab": {},
    "colab_type": "code",
    "id": "S2wM0qLuo2Zt"
   },
   "outputs": [
    {
     "data": {
      "text/html": [
       "<div>\n",
       "<style scoped>\n",
       "    .dataframe tbody tr th:only-of-type {\n",
       "        vertical-align: middle;\n",
       "    }\n",
       "\n",
       "    .dataframe tbody tr th {\n",
       "        vertical-align: top;\n",
       "    }\n",
       "\n",
       "    .dataframe thead th {\n",
       "        text-align: right;\n",
       "    }\n",
       "</style>\n",
       "<table border=\"1\" class=\"dataframe\">\n",
       "  <thead>\n",
       "    <tr style=\"text-align: right;\">\n",
       "      <th></th>\n",
       "      <th>London_Borough</th>\n",
       "      <th>ID</th>\n",
       "      <th>0</th>\n",
       "      <th>value</th>\n",
       "    </tr>\n",
       "  </thead>\n",
       "  <tbody>\n",
       "    <tr>\n",
       "      <th>0</th>\n",
       "      <td>City of London</td>\n",
       "      <td>E09000001</td>\n",
       "      <td>1995-01-01</td>\n",
       "      <td>91,448.98</td>\n",
       "    </tr>\n",
       "    <tr>\n",
       "      <th>1</th>\n",
       "      <td>Barking &amp; Dagenham</td>\n",
       "      <td>E09000002</td>\n",
       "      <td>1995-01-01</td>\n",
       "      <td>50,460.23</td>\n",
       "    </tr>\n",
       "    <tr>\n",
       "      <th>2</th>\n",
       "      <td>Barnet</td>\n",
       "      <td>E09000003</td>\n",
       "      <td>1995-01-01</td>\n",
       "      <td>93,284.52</td>\n",
       "    </tr>\n",
       "    <tr>\n",
       "      <th>3</th>\n",
       "      <td>Bexley</td>\n",
       "      <td>E09000004</td>\n",
       "      <td>1995-01-01</td>\n",
       "      <td>64,958.09</td>\n",
       "    </tr>\n",
       "    <tr>\n",
       "      <th>4</th>\n",
       "      <td>Brent</td>\n",
       "      <td>E09000005</td>\n",
       "      <td>1995-01-01</td>\n",
       "      <td>71,306.57</td>\n",
       "    </tr>\n",
       "  </tbody>\n",
       "</table>\n",
       "</div>"
      ],
      "text/plain": [
       "       London_Borough         ID          0     value\n",
       "0      City of London  E09000001 1995-01-01 91,448.98\n",
       "1  Barking & Dagenham  E09000002 1995-01-01 50,460.23\n",
       "2              Barnet  E09000003 1995-01-01 93,284.52\n",
       "3              Bexley  E09000004 1995-01-01 64,958.09\n",
       "4               Brent  E09000005 1995-01-01 71,306.57"
      ]
     },
     "execution_count": 8,
     "metadata": {},
     "output_type": "execute_result"
    }
   ],
   "source": [
    "clean_properties.head()"
   ]
  },
  {
   "cell_type": "markdown",
   "metadata": {
    "colab_type": "text",
    "id": "7kIsgAo7o3mf"
   },
   "source": [
    "Remember to make sure your column data types are all correct. Average prices, for example, should be floating point numbers... "
   ]
  },
  {
   "cell_type": "code",
   "execution_count": 9,
   "metadata": {
    "colab": {},
    "colab_type": "code",
    "id": "ZcR4IHbcpOaq"
   },
   "outputs": [
    {
     "data": {
      "text/html": [
       "<div>\n",
       "<style scoped>\n",
       "    .dataframe tbody tr th:only-of-type {\n",
       "        vertical-align: middle;\n",
       "    }\n",
       "\n",
       "    .dataframe tbody tr th {\n",
       "        vertical-align: top;\n",
       "    }\n",
       "\n",
       "    .dataframe thead th {\n",
       "        text-align: right;\n",
       "    }\n",
       "</style>\n",
       "<table border=\"1\" class=\"dataframe\">\n",
       "  <thead>\n",
       "    <tr style=\"text-align: right;\">\n",
       "      <th></th>\n",
       "      <th>London_Borough</th>\n",
       "      <th>ID</th>\n",
       "      <th>Month</th>\n",
       "      <th>Average_Price</th>\n",
       "    </tr>\n",
       "  </thead>\n",
       "  <tbody>\n",
       "    <tr>\n",
       "      <th>0</th>\n",
       "      <td>City of London</td>\n",
       "      <td>E09000001</td>\n",
       "      <td>1995-01-01</td>\n",
       "      <td>91,448.98</td>\n",
       "    </tr>\n",
       "    <tr>\n",
       "      <th>1</th>\n",
       "      <td>Barking &amp; Dagenham</td>\n",
       "      <td>E09000002</td>\n",
       "      <td>1995-01-01</td>\n",
       "      <td>50,460.23</td>\n",
       "    </tr>\n",
       "    <tr>\n",
       "      <th>2</th>\n",
       "      <td>Barnet</td>\n",
       "      <td>E09000003</td>\n",
       "      <td>1995-01-01</td>\n",
       "      <td>93,284.52</td>\n",
       "    </tr>\n",
       "    <tr>\n",
       "      <th>3</th>\n",
       "      <td>Bexley</td>\n",
       "      <td>E09000004</td>\n",
       "      <td>1995-01-01</td>\n",
       "      <td>64,958.09</td>\n",
       "    </tr>\n",
       "    <tr>\n",
       "      <th>4</th>\n",
       "      <td>Brent</td>\n",
       "      <td>E09000005</td>\n",
       "      <td>1995-01-01</td>\n",
       "      <td>71,306.57</td>\n",
       "    </tr>\n",
       "  </tbody>\n",
       "</table>\n",
       "</div>"
      ],
      "text/plain": [
       "       London_Borough         ID      Month  Average_Price\n",
       "0      City of London  E09000001 1995-01-01      91,448.98\n",
       "1  Barking & Dagenham  E09000002 1995-01-01      50,460.23\n",
       "2              Barnet  E09000003 1995-01-01      93,284.52\n",
       "3              Bexley  E09000004 1995-01-01      64,958.09\n",
       "4               Brent  E09000005 1995-01-01      71,306.57"
      ]
     },
     "execution_count": 9,
     "metadata": {},
     "output_type": "execute_result"
    }
   ],
   "source": [
    "clean_properties = clean_properties.rename(columns={0:'Month','value':'Average_Price'})\n",
    "clean_properties['Average_Price'] = clean_properties['Average_Price'].astype(float)\n",
    "clean_properties.head()"
   ]
  },
  {
   "cell_type": "markdown",
   "metadata": {
    "colab_type": "text",
    "id": "knLUXHLypOtw"
   },
   "source": [
    "**2.5. Cleaning the data (part 3)**\n",
    "\n",
    "Do we have an equal number of observations in the ID, Average Price, Month, and London Borough columns? Remember that there are only 32 London Boroughs. How many entries do you have in that column? \n",
    "\n",
    "Check out the contents of the London Borough column, and if you find null values, get rid of them however you see fit. "
   ]
  },
  {
   "cell_type": "code",
   "execution_count": 10,
   "metadata": {},
   "outputs": [
    {
     "name": "stdout",
     "output_type": "stream",
     "text": [
      "London_Borough      0\n",
      "ID                945\n",
      "Month               0\n",
      "Average_Price     945\n",
      "dtype: int64 \n",
      "\n",
      "    London_Borough   ID      Month  Average_Price\n",
      "33     Unnamed: 34  NaN 1995-01-01            nan\n",
      "36     Unnamed: 37  NaN 1995-01-01            nan\n",
      "46     Unnamed: 47  NaN 1995-01-01            nan\n",
      "81     Unnamed: 34  NaN 1995-02-01            nan\n",
      "84     Unnamed: 37  NaN 1995-02-01            nan\n",
      "94     Unnamed: 47  NaN 1995-02-01            nan\n",
      "129    Unnamed: 34  NaN 1995-03-01            nan\n",
      "132    Unnamed: 37  NaN 1995-03-01            nan\n",
      "142    Unnamed: 47  NaN 1995-03-01            nan\n",
      "177    Unnamed: 34  NaN 1995-04-01            nan\n",
      "180    Unnamed: 37  NaN 1995-04-01            nan\n",
      "190    Unnamed: 47  NaN 1995-04-01            nan\n",
      "225    Unnamed: 34  NaN 1995-05-01            nan\n",
      "228    Unnamed: 37  NaN 1995-05-01            nan\n",
      "238    Unnamed: 47  NaN 1995-05-01            nan\n",
      "273    Unnamed: 34  NaN 1995-06-01            nan\n",
      "276    Unnamed: 37  NaN 1995-06-01            nan\n",
      "286    Unnamed: 47  NaN 1995-06-01            nan\n",
      "321    Unnamed: 34  NaN 1995-07-01            nan\n",
      "324    Unnamed: 37  NaN 1995-07-01            nan\n"
     ]
    }
   ],
   "source": [
    "print(clean_properties.isnull().sum(),'\\n')\n",
    "null_rows = clean_properties[clean_properties['ID'].isnull()]\n",
    "print(null_rows.head(20))"
   ]
  },
  {
   "cell_type": "code",
   "execution_count": 11,
   "metadata": {},
   "outputs": [
    {
     "data": {
      "text/plain": [
       "London_Borough    0\n",
       "ID                0\n",
       "Month             0\n",
       "Average_Price     0\n",
       "dtype: int64"
      ]
     },
     "execution_count": 11,
     "metadata": {},
     "output_type": "execute_result"
    }
   ],
   "source": [
    "clean_properties.dropna(inplace=True)\n",
    "clean_properties.isnull().sum()"
   ]
  },
  {
   "cell_type": "code",
   "execution_count": 12,
   "metadata": {},
   "outputs": [
    {
     "name": "stdout",
     "output_type": "stream",
     "text": [
      "False\n",
      "False\n",
      "['City of London' 'Barking & Dagenham' 'Barnet' 'Bexley' 'Brent' 'Bromley'\n",
      " 'Camden' 'Croydon' 'Ealing' 'Enfield' 'Greenwich' 'Hackney'\n",
      " 'Hammersmith & Fulham' 'Haringey' 'Harrow' 'Havering' 'Hillingdon'\n",
      " 'Hounslow' 'Islington' 'Kensington & Chelsea' 'Kingston upon Thames'\n",
      " 'Lambeth' 'Lewisham' 'Merton' 'Newham' 'Redbridge' 'Richmond upon Thames'\n",
      " 'Southwark' 'Sutton' 'Tower Hamlets' 'Waltham Forest' 'Wandsworth'\n",
      " 'Westminster' 'Inner London' 'Outer London' 'NORTH EAST' 'NORTH WEST'\n",
      " 'YORKS & THE HUMBER' 'EAST MIDLANDS' 'WEST MIDLANDS' 'EAST OF ENGLAND'\n",
      " 'LONDON' 'SOUTH EAST' 'SOUTH WEST' 'England']\n"
     ]
    }
   ],
   "source": [
    "import datetime\n",
    "\n",
    "print((clean_properties['Month'] > datetime.datetime.today()).any())\n",
    "print((clean_properties['Average_Price'] < 0).any())\n",
    "print(clean_properties.London_Borough.unique())"
   ]
  },
  {
   "cell_type": "code",
   "execution_count": 13,
   "metadata": {},
   "outputs": [],
   "source": [
    "Non_London_Boroughs = ['Inner London','Outer London','NORTH EAST','NORTH WEST','YORKS & THE HUMBER','EAST MIDLANDS',\n",
    "                   'WEST MIDLANDS','EAST OF ENGLAND','LONDON','SOUTH EAST','SOUTH WEST','England']"
   ]
  },
  {
   "cell_type": "code",
   "execution_count": 14,
   "metadata": {
    "scrolled": true
   },
   "outputs": [
    {
     "name": "stdout",
     "output_type": "stream",
     "text": [
      "14175 10395\n"
     ]
    }
   ],
   "source": [
    "df = clean_properties[~clean_properties['London_Borough'].isin(Non_London_Boroughs)]\n",
    "print(len(clean_properties),len(df))"
   ]
  },
  {
   "cell_type": "markdown",
   "metadata": {
    "colab_type": "text",
    "id": "PGEx6mJsp6dG"
   },
   "source": [
    "**2.6. Visualizing the data**\n",
    "\n",
    "To visualize the data, why not subset on a particular London Borough? Maybe do a line plot of Month against Average Price?"
   ]
  },
  {
   "cell_type": "code",
   "execution_count": 15,
   "metadata": {
    "colab": {},
    "colab_type": "code",
    "id": "nAg5pT9cqHAR"
   },
   "outputs": [
    {
     "data": {
      "text/plain": [
       "Text(0, 0.5, 'Price')"
      ]
     },
     "execution_count": 15,
     "metadata": {},
     "output_type": "execute_result"
    },
    {
     "data": {
      "image/png": "[encoded data removed]",
      "text/plain": [
       "<Figure size 432x288 with 1 Axes>"
      ]
     },
     "metadata": {
      "needs_background": "light"
     },
     "output_type": "display_data"
    }
   ],
   "source": [
    "df[df['London_Borough'] == 'Sutton'].plot(x='Month',y='Average_Price',title=\"Sutton Average Properties' Price Change Over Time\")\n",
    "plt.ylabel('Price')"
   ]
  },
  {
   "cell_type": "markdown",
   "metadata": {
    "colab_type": "text",
    "id": "aWTPqSJeqHnC"
   },
   "source": [
    "To limit the number of data points you have, you might want to extract the year from every month value your *Month* column. \n",
    "\n",
    "To this end, you *could* apply a ***lambda function***. Your logic could work as follows:\n",
    "1. look through the `Month` column\n",
    "2. extract the year from each individual value in that column \n",
    "3. store that corresponding year as separate column. \n",
    "\n",
    "Whether you go ahead with this is up to you. Just so long as you answer our initial brief: which boroughs of London have seen the greatest house price increase, on average, over the past two decades? "
   ]
  },
  {
   "cell_type": "code",
   "execution_count": 16,
   "metadata": {
    "colab": {},
    "colab_type": "code",
    "id": "e0DF92cyqnu8"
   },
   "outputs": [
    {
     "name": "stderr",
     "output_type": "stream",
     "text": [
      "<ipython-input-16-7a89f30318a9>:1: SettingWithCopyWarning: \n",
      "A value is trying to be set on a copy of a slice from a DataFrame.\n",
      "Try using .loc[row_indexer,col_indexer] = value instead\n",
      "\n",
      "See the caveats in the documentation: https://pandas.pydata.org/pandas-docs/stable/user_guide/indexing.html#returning-a-view-versus-a-copy\n",
      "  df['Year'] = df['Month'].apply(lambda x: x.year)\n"
     ]
    },
    {
     "data": {
      "text/html": [
       "<div>\n",
       "<style scoped>\n",
       "    .dataframe tbody tr th:only-of-type {\n",
       "        vertical-align: middle;\n",
       "    }\n",
       "\n",
       "    .dataframe tbody tr th {\n",
       "        vertical-align: top;\n",
       "    }\n",
       "\n",
       "    .dataframe thead th {\n",
       "        text-align: right;\n",
       "    }\n",
       "</style>\n",
       "<table border=\"1\" class=\"dataframe\">\n",
       "  <thead>\n",
       "    <tr style=\"text-align: right;\">\n",
       "      <th></th>\n",
       "      <th>London_Borough</th>\n",
       "      <th>Year</th>\n",
       "      <th>Average_Price</th>\n",
       "    </tr>\n",
       "  </thead>\n",
       "  <tbody>\n",
       "    <tr>\n",
       "      <th>0</th>\n",
       "      <td>Barking &amp; Dagenham</td>\n",
       "      <td>1995</td>\n",
       "      <td>51,817.97</td>\n",
       "    </tr>\n",
       "    <tr>\n",
       "      <th>1</th>\n",
       "      <td>Barking &amp; Dagenham</td>\n",
       "      <td>1996</td>\n",
       "      <td>51,718.19</td>\n",
       "    </tr>\n",
       "    <tr>\n",
       "      <th>2</th>\n",
       "      <td>Barking &amp; Dagenham</td>\n",
       "      <td>1997</td>\n",
       "      <td>55,974.26</td>\n",
       "    </tr>\n",
       "    <tr>\n",
       "      <th>3</th>\n",
       "      <td>Barking &amp; Dagenham</td>\n",
       "      <td>1998</td>\n",
       "      <td>60,285.82</td>\n",
       "    </tr>\n",
       "    <tr>\n",
       "      <th>4</th>\n",
       "      <td>Barking &amp; Dagenham</td>\n",
       "      <td>1999</td>\n",
       "      <td>65,320.93</td>\n",
       "    </tr>\n",
       "  </tbody>\n",
       "</table>\n",
       "</div>"
      ],
      "text/plain": [
       "       London_Borough  Year  Average_Price\n",
       "0  Barking & Dagenham  1995      51,817.97\n",
       "1  Barking & Dagenham  1996      51,718.19\n",
       "2  Barking & Dagenham  1997      55,974.26\n",
       "3  Barking & Dagenham  1998      60,285.82\n",
       "4  Barking & Dagenham  1999      65,320.93"
      ]
     },
     "execution_count": 16,
     "metadata": {},
     "output_type": "execute_result"
    }
   ],
   "source": [
    "df['Year'] = df['Month'].apply(lambda x: x.year)\n",
    "\n",
    "dfg = df.groupby(by=['London_Borough','Year']).mean()\n",
    "dfg = dfg.reset_index()\n",
    "dfg.head()"
   ]
  },
  {
   "cell_type": "markdown",
   "metadata": {
    "colab_type": "text",
    "id": "2knuTxAEqoJ4"
   },
   "source": [
    "**3. Modeling**\n",
    "\n",
    "Consider creating a function that will calculate a ratio of house prices, comparing the price of a house in 2018 to the price in 1998.\n",
    "\n",
    "Consider calling this function create_price_ratio.\n",
    "\n",
    "You'd want this function to:\n",
    "1. Take a filter of dfg, specifically where this filter constrains the London_Borough, as an argument. For example, one admissible argument should be: dfg[dfg['London_Borough']=='Camden'].\n",
    "2. Get the Average Price for that Borough, for the years 1998 and 2018.\n",
    "4. Calculate the ratio of the Average Price for 1998 divided by the Average Price for 2018.\n",
    "5. Return that ratio.\n",
    "\n",
    "Once you've written this function, you ultimately want to use it to iterate through all the unique London_Boroughs and work out the ratio capturing the difference of house prices between 1998 and 2018.\n",
    "\n",
    "Bear in mind: you don't have to write a function like this if you don't want to. If you can solve the brief otherwise, then great! \n",
    "\n",
    "***Hint***: This section should test the skills you acquired in:\n",
    "- Python Data Science Toolbox - Part One, all modules"
   ]
  },
  {
   "cell_type": "code",
   "execution_count": 17,
   "metadata": {
    "colab": {},
    "colab_type": "code",
    "id": "cKTyr437UgDa"
   },
   "outputs": [],
   "source": [
    "def create_price_ratio(d):\n",
    "    y1998 = float(d['Average_Price'][d['Year']==1998])\n",
    "    y2018 = float(d['Average_Price'][d['Year']==2018])\n",
    "    ratio = [y2018/y1998]\n",
    "    return ratio"
   ]
  },
  {
   "cell_type": "code",
   "execution_count": 18,
   "metadata": {},
   "outputs": [
    {
     "data": {
      "text/plain": [
       "[4.89661861291754]"
      ]
     },
     "execution_count": 18,
     "metadata": {},
     "output_type": "execute_result"
    }
   ],
   "source": [
    "create_price_ratio(dfg[dfg['London_Borough']=='Barking & Dagenham'])"
   ]
  },
  {
   "cell_type": "code",
   "execution_count": 19,
   "metadata": {},
   "outputs": [],
   "source": [
    "final = {}"
   ]
  },
  {
   "cell_type": "code",
   "execution_count": 20,
   "metadata": {
    "scrolled": true
   },
   "outputs": [
    {
     "name": "stdout",
     "output_type": "stream",
     "text": [
      "{'Barking & Dagenham': [4.89661861291754], 'Barnet': [4.358195917538044], 'Bexley': [4.248977046127877], 'Brent': [4.8945544971392865], 'Bromley': [4.0947846853338765], 'Camden': [4.935353408884261], 'City of London': [5.301620377587609], 'Croydon': [4.201100280024767], 'Ealing': [4.311450902121834], 'Enfield': [4.26347158349581], 'Greenwich': [4.763036347329193], 'Hackney': [6.198285561008662], 'Hammersmith & Fulham': [4.137798101936229], 'Haringey': [5.134624964136042], 'Harrow': [4.0591964329643195], 'Havering': [4.325230371335308], 'Hillingdon': [4.2002730803844575], 'Hounslow': [3.976409106143329], 'Islington': [4.844048012802298], 'Kensington & Chelsea': [5.082465066092464], 'Kingston upon Thames': [4.270549521484271], 'Lambeth': [4.957751163514063], 'Lewisham': [5.449221041059685], 'Merton': [4.741273313294604], 'Newham': [5.305390437201879], 'Redbridge': [4.471182006097364], 'Richmond upon Thames': [4.005161895721457], 'Southwark': [5.516485302379376], 'Sutton': [4.118522608573157], 'Tower Hamlets': [4.62670104006116], 'Waltham Forest': [5.83475580932281], 'Wandsworth': [4.757709347739269], 'Westminster': [5.353565392605413]}\n"
     ]
    }
   ],
   "source": [
    "for i in dfg['London_Borough'].unique():\n",
    "    borough = dfg[dfg['London_Borough'] == i]\n",
    "    final[i] = create_price_ratio(borough)\n",
    "print(final) "
   ]
  },
  {
   "cell_type": "code",
   "execution_count": 21,
   "metadata": {},
   "outputs": [
    {
     "data": {
      "text/html": [
       "<div>\n",
       "<style scoped>\n",
       "    .dataframe tbody tr th:only-of-type {\n",
       "        vertical-align: middle;\n",
       "    }\n",
       "\n",
       "    .dataframe tbody tr th {\n",
       "        vertical-align: top;\n",
       "    }\n",
       "\n",
       "    .dataframe thead th {\n",
       "        text-align: right;\n",
       "    }\n",
       "</style>\n",
       "<table border=\"1\" class=\"dataframe\">\n",
       "  <thead>\n",
       "    <tr style=\"text-align: right;\">\n",
       "      <th></th>\n",
       "      <th>Barking &amp; Dagenham</th>\n",
       "      <th>Barnet</th>\n",
       "      <th>Bexley</th>\n",
       "      <th>Brent</th>\n",
       "      <th>Bromley</th>\n",
       "      <th>Camden</th>\n",
       "      <th>City of London</th>\n",
       "      <th>Croydon</th>\n",
       "      <th>Ealing</th>\n",
       "      <th>Enfield</th>\n",
       "      <th>...</th>\n",
       "      <th>Merton</th>\n",
       "      <th>Newham</th>\n",
       "      <th>Redbridge</th>\n",
       "      <th>Richmond upon Thames</th>\n",
       "      <th>Southwark</th>\n",
       "      <th>Sutton</th>\n",
       "      <th>Tower Hamlets</th>\n",
       "      <th>Waltham Forest</th>\n",
       "      <th>Wandsworth</th>\n",
       "      <th>Westminster</th>\n",
       "    </tr>\n",
       "  </thead>\n",
       "  <tbody>\n",
       "    <tr>\n",
       "      <th>0</th>\n",
       "      <td>4.90</td>\n",
       "      <td>4.36</td>\n",
       "      <td>4.25</td>\n",
       "      <td>4.89</td>\n",
       "      <td>4.09</td>\n",
       "      <td>4.94</td>\n",
       "      <td>5.30</td>\n",
       "      <td>4.20</td>\n",
       "      <td>4.31</td>\n",
       "      <td>4.26</td>\n",
       "      <td>...</td>\n",
       "      <td>4.74</td>\n",
       "      <td>5.31</td>\n",
       "      <td>4.47</td>\n",
       "      <td>4.01</td>\n",
       "      <td>5.52</td>\n",
       "      <td>4.12</td>\n",
       "      <td>4.63</td>\n",
       "      <td>5.83</td>\n",
       "      <td>4.76</td>\n",
       "      <td>5.35</td>\n",
       "    </tr>\n",
       "  </tbody>\n",
       "</table>\n",
       "<p>1 rows × 33 columns</p>\n",
       "</div>"
      ],
      "text/plain": [
       "   Barking & Dagenham  Barnet  Bexley  Brent  Bromley  Camden  City of London  \\\n",
       "0                4.90    4.36    4.25   4.89     4.09    4.94            5.30   \n",
       "\n",
       "   Croydon  Ealing  Enfield  ...  Merton  Newham  Redbridge  \\\n",
       "0     4.20    4.31     4.26  ...    4.74    5.31       4.47   \n",
       "\n",
       "   Richmond upon Thames  Southwark  Sutton  Tower Hamlets  Waltham Forest  \\\n",
       "0                  4.01       5.52    4.12           4.63            5.83   \n",
       "\n",
       "   Wandsworth  Westminster  \n",
       "0        4.76         5.35  \n",
       "\n",
       "[1 rows x 33 columns]"
      ]
     },
     "execution_count": 21,
     "metadata": {},
     "output_type": "execute_result"
    }
   ],
   "source": [
    "df_ratios = pd.DataFrame(final)\n",
    "df_ratios.head()"
   ]
  },
  {
   "cell_type": "code",
   "execution_count": 22,
   "metadata": {},
   "outputs": [
    {
     "data": {
      "text/html": [
       "<div>\n",
       "<style scoped>\n",
       "    .dataframe tbody tr th:only-of-type {\n",
       "        vertical-align: middle;\n",
       "    }\n",
       "\n",
       "    .dataframe tbody tr th {\n",
       "        vertical-align: top;\n",
       "    }\n",
       "\n",
       "    .dataframe thead th {\n",
       "        text-align: right;\n",
       "    }\n",
       "</style>\n",
       "<table border=\"1\" class=\"dataframe\">\n",
       "  <thead>\n",
       "    <tr style=\"text-align: right;\">\n",
       "      <th></th>\n",
       "      <th>Borough</th>\n",
       "      <th>2018</th>\n",
       "    </tr>\n",
       "  </thead>\n",
       "  <tbody>\n",
       "    <tr>\n",
       "      <th>0</th>\n",
       "      <td>Barking &amp; Dagenham</td>\n",
       "      <td>4.90</td>\n",
       "    </tr>\n",
       "    <tr>\n",
       "      <th>1</th>\n",
       "      <td>Barnet</td>\n",
       "      <td>4.36</td>\n",
       "    </tr>\n",
       "    <tr>\n",
       "      <th>2</th>\n",
       "      <td>Bexley</td>\n",
       "      <td>4.25</td>\n",
       "    </tr>\n",
       "    <tr>\n",
       "      <th>3</th>\n",
       "      <td>Brent</td>\n",
       "      <td>4.89</td>\n",
       "    </tr>\n",
       "    <tr>\n",
       "      <th>4</th>\n",
       "      <td>Bromley</td>\n",
       "      <td>4.09</td>\n",
       "    </tr>\n",
       "  </tbody>\n",
       "</table>\n",
       "</div>"
      ],
      "text/plain": [
       "              Borough  2018\n",
       "0  Barking & Dagenham  4.90\n",
       "1              Barnet  4.36\n",
       "2              Bexley  4.25\n",
       "3               Brent  4.89\n",
       "4             Bromley  4.09"
      ]
     },
     "execution_count": 22,
     "metadata": {},
     "output_type": "execute_result"
    }
   ],
   "source": [
    "df_ratios_T = df_ratios.T\n",
    "df_ratios = df_ratios_T.reset_index()\n",
    "df_ratios.rename(columns={'index':'Borough', 0:'2018'}, inplace=True)\n",
    "df_ratios.head()"
   ]
  },
  {
   "cell_type": "code",
   "execution_count": 23,
   "metadata": {
    "scrolled": false
   },
   "outputs": [
    {
     "name": "stdout",
     "output_type": "stream",
     "text": [
      "                 Borough  2018\n",
      "11               Hackney  6.20\n",
      "30        Waltham Forest  5.83\n",
      "27             Southwark  5.52\n",
      "22              Lewisham  5.45\n",
      "32           Westminster  5.35\n",
      "24                Newham  5.31\n",
      "6         City of London  5.30\n",
      "13              Haringey  5.13\n",
      "19  Kensington & Chelsea  5.08\n",
      "21               Lambeth  4.96\n",
      "5                 Camden  4.94\n",
      "0     Barking & Dagenham  4.90\n",
      "3                  Brent  4.89\n",
      "18             Islington  4.84\n",
      "10             Greenwich  4.76\n"
     ]
    }
   ],
   "source": [
    "top15 = df_ratios.sort_values(by='2018',ascending=False).head(15)\n",
    "print(top15)"
   ]
  },
  {
   "cell_type": "code",
   "execution_count": 24,
   "metadata": {},
   "outputs": [
    {
     "data": {
      "text/plain": [
       "[Text(0, 0, 'Hackney'),\n",
       " Text(1, 0, 'Waltham Forest'),\n",
       " Text(2, 0, 'Southwark'),\n",
       " Text(3, 0, 'Lewisham'),\n",
       " Text(4, 0, 'Westminster'),\n",
       " Text(5, 0, 'Newham'),\n",
       " Text(6, 0, 'City of London'),\n",
       " Text(7, 0, 'Haringey'),\n",
       " Text(8, 0, 'Kensington & Chelsea'),\n",
       " Text(9, 0, 'Lambeth'),\n",
       " Text(10, 0, 'Camden'),\n",
       " Text(11, 0, 'Barking & Dagenham'),\n",
       " Text(12, 0, 'Brent'),\n",
       " Text(13, 0, 'Islington'),\n",
       " Text(14, 0, 'Greenwich')]"
      ]
     },
     "execution_count": 24,
     "metadata": {},
     "output_type": "execute_result"
    },
    {
     "data": {
      "image/png": "[encoded data removed]",
      "text/plain": [
       "<Figure size 432x288 with 1 Axes>"
      ]
     },
     "metadata": {
      "needs_background": "light"
     },
     "output_type": "display_data"
    }
   ],
   "source": [
    "ax = top15[['Borough','2018']].plot(kind='bar')\n",
    "\n",
    "ax.set_xticklabels(top15.Borough)"
   ]
  },
  {
   "cell_type": "markdown",
   "metadata": {
    "colab_type": "text",
    "id": "NzYUI7FxJpgv"
   },
   "source": [
    "### 4. Conclusion\n",
    "What can you conclude? Type out your conclusion below. \n",
    "\n",
    "Look back at your notebook. Think about how you might summarize what you have done, and prepare a quick presentation on it to your mentor at your next meeting. \n",
    "\n",
    "We hope you enjoyed this practical project. It should have consolidated your data hygiene and pandas skills by looking at a real-world problem involving just the kind of dataset you might encounter as a budding data scientist. Congratulations, and looking forward to seeing you at the next step in the course! "
   ]
  },
  {
   "cell_type": "markdown",
   "metadata": {},
   "source": [
    "### The conclusion is that Hackney has seen the greatest average increase in housing prices between 1998 and 2018.\n",
    "- Hackney is followed closely by Waltham Forest, and Southwark.\n",
    "- It is possible that changing the timeframe of analysis may result in a different borough representing the greatest average increase in housing prices over that given timeframe."
   ]
  }
 ],
 "metadata": {
  "colab": {
   "collapsed_sections": [],
   "name": "Springboard Data Science Career Track Unit 4 Challenge - Tier 3 Complete .ipynb",
   "provenance": []
  },
  "kernelspec": {
   "display_name": "Python 3",
   "language": "python",
   "name": "python3"
  },
  "language_info": {
   "codemirror_mode": {
    "name": "ipython",
    "version": 3
   },
   "file_extension": ".py",
   "mimetype": "text/x-python",
   "name": "python",
   "nbconvert_exporter": "python",
   "pygments_lexer": "ipython3",
   "version": "3.8.5"
  }
 },
 "nbformat": 4,
 "nbformat_minor": 1
}
